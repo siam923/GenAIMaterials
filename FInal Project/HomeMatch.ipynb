{
 "cells": [
  {
   "cell_type": "code",
   "execution_count": null,
   "id": "c8633560-e8cc-4a00-bf54-67d032ca18ba",
   "metadata": {},
   "outputs": [],
   "source": [
    "## Installation required: \n",
    "! pip install langchain==0.1.17\n",
    "! pip install langchain_openai\n",
    "! pip install openai==1.25.1\n",
    "! pip install pydantic==2.7.1\n",
    "! pip install pytest\n",
    "! pip install chromadb==0.5.0\n",
    "! pip install jupyter==1.0.0\n",
    "! pip install pandas==2.2.2"
   ]
  },
  {
   "cell_type": "markdown",
   "id": "a108af04",
   "metadata": {},
   "source": [
    "### QA Chatbot on Real Estate Data\n",
    "Required libraries"
   ]
  },
  {
   "cell_type": "code",
   "execution_count": 46,
   "id": "5d71ee13",
   "metadata": {},
   "outputs": [],
   "source": [
    "## General Libraries \n",
    "import os \n",
    "from typing import List\n",
    "import pandas as pd\n",
    "from io import StringIO\n",
    "import csv\n",
    "from pydantic import BaseModel, Field\n",
    "from langchain.output_parsers import PydanticOutputParser\n",
    "from langchain_core.output_parsers import StrOutputParser ## Process llm response to string"
   ]
  },
  {
   "cell_type": "code",
   "execution_count": 4,
   "id": "6dcc59c8-346d-4b7a-b640-cc9348b60e49",
   "metadata": {},
   "outputs": [],
   "source": [
    "# Rag\n",
    "from langchain_chroma import Chroma\n",
    "from langchain_community.document_loaders import CSVLoader\n",
    "from langchain_text_splitters import CharacterTextSplitter\n",
    "from langchain_openai import OpenAIEmbeddings"
   ]
  },
  {
   "cell_type": "code",
   "execution_count": 49,
   "id": "6554fd4c",
   "metadata": {},
   "outputs": [],
   "source": [
    "## Chains\n",
    "from langchain.chains import create_retrieval_chain\n",
    "## Main Components\n",
    "from langchain_openai import ChatOpenAI\n",
    "from langchain_core.prompts import ChatPromptTemplate, PromptTemplate"
   ]
  },
  {
   "cell_type": "code",
   "execution_count": 33,
   "id": "e8a3def4-dcad-49f5-bf0c-5d655851cf20",
   "metadata": {},
   "outputs": [],
   "source": [
    "## Dhat\n",
    "from langchain.chains.combine_documents import create_stuff_documents_chain # RAG Chat"
   ]
  },
  {
   "cell_type": "code",
   "execution_count": 120,
   "id": "bda9f2c2",
   "metadata": {},
   "outputs": [],
   "source": [
    "OPENAI_API_KEY = 'your key'\n",
    "\n",
    "os.environ[\"OPENAI_API_KEY\"] = OPENAI_API_KEY"
   ]
  },
  {
   "cell_type": "markdown",
   "id": "9a8b4bae",
   "metadata": {},
   "source": [
    "### Data generation\n",
    "Generating 30 property listing with llm"
   ]
  },
  {
   "cell_type": "code",
   "execution_count": 56,
   "id": "5e083f1a",
   "metadata": {},
   "outputs": [],
   "source": [
    "datagen_llm = ChatOpenAI(\n",
    "    api_key=OPENAI_API_KEY,\n",
    "    model=\"gpt-3.5-turbo-16k\",\n",
    ")"
   ]
  },
  {
   "cell_type": "code",
   "execution_count": 41,
   "id": "5d148a4c",
   "metadata": {},
   "outputs": [],
   "source": [
    "DATAGEN_TEMPLATE = \"\"\"You are a datagenerator for real estate who acts as a real estate agent to create property listing for users.  \n",
    "You should create list of {count} listing based on made up values. Include the following fields:\n",
    "```\n",
    "Neighborhood, area, price, type(Condo, apartment etc.), house size, bedrooms, bathrooms, description,contact\n",
    "```\n",
    "{format_instructions}\n",
    "\"\"\""
   ]
  },
  {
   "cell_type": "code",
   "execution_count": 42,
   "id": "61712cc1",
   "metadata": {},
   "outputs": [],
   "source": [
    "## Data validator\n",
    "class HomeData(BaseModel):\n",
    "    neighborhood: str = Field(..., description=\"The name of the neighborhood\")\n",
    "    area: str = Field(..., description=\"The size of the home in square feet\")\n",
    "    price: str = Field(..., description=\"The listed price of the home in USD\")\n",
    "    type_: str = Field(..., alias='Type', description=\"The type of property\")\n",
    "    house_size: str = Field(..., description=\"Size of the house in square feet\")\n",
    "    bedrooms: str = Field(..., description=\"Number of bedrooms\")\n",
    "    bathrooms: str = Field(..., description=\"Number of bathrooms\")\n",
    "    description: str = Field(..., description=\"Description of the property\")\n",
    "    contact: str = Field(..., description=\"Contact information for the property\")\n",
    "\n",
    "class HomeDataList(BaseModel):\n",
    "    listings: List[HomeData] = Field(description=\"A list of real estate listings\")"
   ]
  },
  {
   "cell_type": "code",
   "execution_count": 43,
   "id": "d6c90c3f",
   "metadata": {},
   "outputs": [],
   "source": [
    "## Data parser\n",
    "parser = PydanticOutputParser(pydantic_object=HomeDataList)"
   ]
  },
  {
   "cell_type": "code",
   "execution_count": 62,
   "id": "88234a63",
   "metadata": {},
   "outputs": [
    {
     "name": "stdout",
     "output_type": "stream",
     "text": [
      "You are a datagenerator for real estate who acts as a real estate agent to create property listing for users.  \n",
      "You should create list of 10 listing based on made up values. Include the following fields:\n",
      "```\n",
      "Neighborhood, area, price, type(Condo, apartment etc.), house size, bedrooms, bathrooms, description,contact\n",
      "```\n",
      "The output should be formatted as a JSON instance that conforms to the JSON schema below.\n",
      "\n",
      "As an example, for the schema {\"properties\": {\"foo\": {\"title\": \"Foo\", \"description\": \"a list of strings\", \"type\": \"array\", \"items\": {\"type\": \"string\"}}}, \"required\": [\"foo\"]}\n",
      "the object {\"foo\": [\"bar\", \"baz\"]} is a well-formatted instance of the schema. The object {\"properties\": {\"foo\": [\"bar\", \"baz\"]}} is not well-formatted.\n",
      "\n",
      "Here is the output schema:\n",
      "```\n",
      "{\"$defs\": {\"HomeData\": {\"properties\": {\"neighborhood\": {\"description\": \"The name of the neighborhood\", \"title\": \"Neighborhood\", \"type\": \"string\"}, \"area\": {\"description\": \"The size of the home in square feet\", \"title\": \"Area\", \"type\": \"string\"}, \"price\": {\"description\": \"The listed price of the home in USD\", \"title\": \"Price\", \"type\": \"string\"}, \"Type\": {\"description\": \"The type of property\", \"title\": \"Type\", \"type\": \"string\"}, \"house_size\": {\"description\": \"Size of the house in square feet\", \"title\": \"House Size\", \"type\": \"string\"}, \"bedrooms\": {\"description\": \"Number of bedrooms\", \"title\": \"Bedrooms\", \"type\": \"string\"}, \"bathrooms\": {\"description\": \"Number of bathrooms\", \"title\": \"Bathrooms\", \"type\": \"string\"}, \"description\": {\"description\": \"Description of the property\", \"title\": \"Description\", \"type\": \"string\"}, \"contact\": {\"description\": \"Contact information for the property\", \"title\": \"Contact\", \"type\": \"string\"}}, \"required\": [\"neighborhood\", \"area\", \"price\", \"Type\", \"house_size\", \"bedrooms\", \"bathrooms\", \"description\", \"contact\"], \"title\": \"HomeData\", \"type\": \"object\"}}, \"properties\": {\"listings\": {\"description\": \"A list of real estate listings\", \"items\": {\"$ref\": \"#/$defs/HomeData\"}, \"title\": \"Listings\", \"type\": \"array\"}}, \"required\": [\"listings\"]}\n",
      "```\n",
      "\n"
     ]
    }
   ],
   "source": [
    "PROMPT = PromptTemplate(\n",
    "    input_variables=[\"count\"],\n",
    "    template=DATAGEN_TEMPLATE,\n",
    "    partial_variables={\"format_instructions\": parser.get_format_instructions}\n",
    ")\n",
    "\n",
    "datagen_instruction = PROMPT.format(count=10)\n",
    "print(datagen_instruction)"
   ]
  },
  {
   "cell_type": "markdown",
   "id": "f71a5f62-06d8-43fd-bc88-59a6a1084682",
   "metadata": {},
   "source": [
    "### Alternative way to call llm using chain and parser in a pipeline: \n",
    "```\n",
    "output_parser = DatetimeOutputParser(Hformat=\"%a %d/%m/%Y\")\n",
    "prompt = PromptTemplate(\n",
    "    template=\"{question}\\n{format_instructions}\",\n",
    "    input_variables=[\"question\"],\n",
    "    partial_variables={\"format_instructions\": format_instructions}\n",
    ")\n",
    "\n",
    "model = VertexAI()\n",
    "chain = prompt | model | output_parser\n",
    "ans = chain.invoke({\"question\":\"When is Lunar New Year of 2024?\"})\n",
    "```"
   ]
  },
  {
   "cell_type": "code",
   "execution_count": 69,
   "id": "a12d5c6e",
   "metadata": {},
   "outputs": [],
   "source": [
    "datagen_response = datagen_llm.invoke(datagen_instruction).content"
   ]
  },
  {
   "cell_type": "code",
   "execution_count": 70,
   "id": "3456da5c-5772-47a5-92f6-a17c12b5b38d",
   "metadata": {
    "scrolled": true
   },
   "outputs": [
    {
     "data": {
      "text/plain": [
       "'{\\n  \"listings\": [\\n    {\\n      \"neighborhood\": \"Westwood\",\\n      \"area\": \"1500 sqft\",\\n      \"price\": \"$500,000\",\\n      \"Type\": \"Condo\",\\n      \"house_size\": \"1200 sqft\",\\n      \"bedrooms\": \"2\",\\n      \"bathrooms\": \"2\",\\n      \"description\": \"Beautiful condo in a prime location with stunning views\",\\n      \"contact\": \"John Doe - 123-456-7890\"\\n    },\\n    {\\n      \"neighborhood\": \"Downtown\",\\n      \"area\": \"2000 sqft\",\\n      \"price\": \"$800,000\",\\n      \"Type\": \"Apartment\",\\n      \"house_size\": \"1800 sqft\",\\n      \"bedrooms\": \"3\",\\n      \"bathrooms\": \"2\",\\n      \"description\": \"Spacious apartment with modern amenities\",\\n      \"contact\": \"Jane Smith - 987-654-3210\"\\n    },\\n    {\\n      \"neighborhood\": \"Greenwood\",\\n      \"area\": \"1800 sqft\",\\n      \"price\": \"$550,000\",\\n      \"Type\": \"House\",\\n      \"house_size\": \"1500 sqft\",\\n      \"bedrooms\": \"4\",\\n      \"bathrooms\": \"3\",\\n      \"description\": \"Charming house with a large backyard\",\\n      \"contact\": \"Mike Johnson - 555-123-4567\"\\n    },\\n    {\\n      \"neighborhood\": \"Northridge\",\\n      \"area\": \"1600 sqft\",\\n      \"price\": \"$450,000\",\\n      \"Type\": \"Condo\",\\n      \"house_size\": \"1400 sqft\",\\n      \"bedrooms\": \"2\",\\n      \"bathrooms\": \"2\",\\n      \"description\": \"Cozy condo in a quiet neighborhood\",\\n      \"contact\": \"Emily Wilson - 789-456-1230\"\\n    },\\n    {\\n      \"neighborhood\": \"Brentwood\",\\n      \"area\": \"2200 sqft\",\\n      \"price\": \"$1,200,000\",\\n      \"Type\": \"House\",\\n      \"house_size\": \"2000 sqft\",\\n      \"bedrooms\": \"5\",\\n      \"bathrooms\": \"4\",\\n      \"description\": \"Luxurious house with high-end finishes\",\\n      \"contact\": \"David Thompson - 222-333-4444\"\\n    },\\n    {\\n      \"neighborhood\": \"Santa Monica\",\\n      \"area\": \"1900 sqft\",\\n      \"price\": \"$700,000\",\\n      \"Type\": \"Apartment\",\\n      \"house_size\": \"1700 sqft\",\\n      \"bedrooms\": \"3\",\\n      \"bathrooms\": \"2\",\\n      \"description\": \"Modern apartment near the beach\",\\n      \"contact\": \"Sarah Davis - 777-888-9999\"\\n    },\\n    {\\n      \"neighborhood\": \"Hollywood\",\\n      \"area\": \"1300 sqft\",\\n      \"price\": \"$600,000\",\\n      \"Type\": \"Condo\",\\n      \"house_size\": \"1100 sqft\",\\n      \"bedrooms\": \"2\",\\n      \"bathrooms\": \"2\",\\n      \"description\": \"Stylish condo in the heart of Hollywood\",\\n      \"contact\": \"Michael Brown - 444-555-6666\"\\n    },\\n    {\\n      \"neighborhood\": \"Venice\",\\n      \"area\": \"1700 sqft\",\\n      \"price\": \"$900,000\",\\n      \"Type\": \"House\",\\n      \"house_size\": \"1500 sqft\",\\n      \"bedrooms\": \"4\",\\n      \"bathrooms\": \"3\",\\n      \"description\": \"Quaint house with a private garden\",\\n      \"contact\": \"Laura Taylor - 111-222-3333\"\\n    },\\n    {\\n      \"neighborhood\": \"Silver Lake\",\\n      \"area\": \"1400 sqft\",\\n      \"price\": \"$500,000\",\\n      \"Type\": \"Apartment\",\\n      \"house_size\": \"1200 sqft\",\\n      \"bedrooms\": \"2\",\\n      \"bathrooms\": \"2\",\\n      \"description\": \"Modern apartment with stunning city views\",\\n      \"contact\": \"Robert Wilson - 999-888-7777\"\\n    },\\n    {\\n      \"neighborhood\": \"West Hollywood\",\\n      \"area\": \"1600 sqft\",\\n      \"price\": \"$750,000\",\\n      \"Type\": \"House\",\\n      \"house_size\": \"1400 sqft\",\\n      \"bedrooms\": \"3\",\\n      \"bathrooms\": \"2\",\\n      \"description\": \"Contemporary house with a rooftop deck\",\\n      \"contact\": \"Michelle Thompson - 333-444-5555\"\\n    }\\n  ]\\n}'"
      ]
     },
     "execution_count": 70,
     "metadata": {},
     "output_type": "execute_result"
    }
   ],
   "source": [
    "datagen_response"
   ]
  },
  {
   "cell_type": "code",
   "execution_count": 71,
   "id": "bd890df3",
   "metadata": {},
   "outputs": [],
   "source": [
    "data = parser.parse(datagen_response)"
   ]
  },
  {
   "cell_type": "code",
   "execution_count": 72,
   "id": "ae3828ce",
   "metadata": {},
   "outputs": [],
   "source": [
    "# Convert each Pydantic model to a dictionary\n",
    "listings_dicts = [listing.dict() for listing in data.listings]"
   ]
  },
  {
   "cell_type": "code",
   "execution_count": 73,
   "id": "ad055262",
   "metadata": {},
   "outputs": [
    {
     "data": {
      "text/html": [
       "<div>\n",
       "<style scoped>\n",
       "    .dataframe tbody tr th:only-of-type {\n",
       "        vertical-align: middle;\n",
       "    }\n",
       "\n",
       "    .dataframe tbody tr th {\n",
       "        vertical-align: top;\n",
       "    }\n",
       "\n",
       "    .dataframe thead th {\n",
       "        text-align: right;\n",
       "    }\n",
       "</style>\n",
       "<table border=\"1\" class=\"dataframe\">\n",
       "  <thead>\n",
       "    <tr style=\"text-align: right;\">\n",
       "      <th></th>\n",
       "      <th>neighborhood</th>\n",
       "      <th>area</th>\n",
       "      <th>price</th>\n",
       "      <th>type_</th>\n",
       "      <th>house_size</th>\n",
       "      <th>bedrooms</th>\n",
       "      <th>bathrooms</th>\n",
       "      <th>description</th>\n",
       "      <th>contact</th>\n",
       "    </tr>\n",
       "  </thead>\n",
       "  <tbody>\n",
       "    <tr>\n",
       "      <th>0</th>\n",
       "      <td>Westwood</td>\n",
       "      <td>1500 sqft</td>\n",
       "      <td>$500,000</td>\n",
       "      <td>Condo</td>\n",
       "      <td>1200 sqft</td>\n",
       "      <td>2</td>\n",
       "      <td>2</td>\n",
       "      <td>Beautiful condo in a prime location with stunn...</td>\n",
       "      <td>John Doe - 123-456-7890</td>\n",
       "    </tr>\n",
       "    <tr>\n",
       "      <th>1</th>\n",
       "      <td>Downtown</td>\n",
       "      <td>2000 sqft</td>\n",
       "      <td>$800,000</td>\n",
       "      <td>Apartment</td>\n",
       "      <td>1800 sqft</td>\n",
       "      <td>3</td>\n",
       "      <td>2</td>\n",
       "      <td>Spacious apartment with modern amenities</td>\n",
       "      <td>Jane Smith - 987-654-3210</td>\n",
       "    </tr>\n",
       "    <tr>\n",
       "      <th>2</th>\n",
       "      <td>Greenwood</td>\n",
       "      <td>1800 sqft</td>\n",
       "      <td>$550,000</td>\n",
       "      <td>House</td>\n",
       "      <td>1500 sqft</td>\n",
       "      <td>4</td>\n",
       "      <td>3</td>\n",
       "      <td>Charming house with a large backyard</td>\n",
       "      <td>Mike Johnson - 555-123-4567</td>\n",
       "    </tr>\n",
       "    <tr>\n",
       "      <th>3</th>\n",
       "      <td>Northridge</td>\n",
       "      <td>1600 sqft</td>\n",
       "      <td>$450,000</td>\n",
       "      <td>Condo</td>\n",
       "      <td>1400 sqft</td>\n",
       "      <td>2</td>\n",
       "      <td>2</td>\n",
       "      <td>Cozy condo in a quiet neighborhood</td>\n",
       "      <td>Emily Wilson - 789-456-1230</td>\n",
       "    </tr>\n",
       "    <tr>\n",
       "      <th>4</th>\n",
       "      <td>Brentwood</td>\n",
       "      <td>2200 sqft</td>\n",
       "      <td>$1,200,000</td>\n",
       "      <td>House</td>\n",
       "      <td>2000 sqft</td>\n",
       "      <td>5</td>\n",
       "      <td>4</td>\n",
       "      <td>Luxurious house with high-end finishes</td>\n",
       "      <td>David Thompson - 222-333-4444</td>\n",
       "    </tr>\n",
       "  </tbody>\n",
       "</table>\n",
       "</div>"
      ],
      "text/plain": [
       "  neighborhood       area       price      type_ house_size bedrooms  \\\n",
       "0     Westwood  1500 sqft    $500,000      Condo  1200 sqft        2   \n",
       "1     Downtown  2000 sqft    $800,000  Apartment  1800 sqft        3   \n",
       "2    Greenwood  1800 sqft    $550,000      House  1500 sqft        4   \n",
       "3   Northridge  1600 sqft    $450,000      Condo  1400 sqft        2   \n",
       "4    Brentwood  2200 sqft  $1,200,000      House  2000 sqft        5   \n",
       "\n",
       "  bathrooms                                        description  \\\n",
       "0         2  Beautiful condo in a prime location with stunn...   \n",
       "1         2           Spacious apartment with modern amenities   \n",
       "2         3               Charming house with a large backyard   \n",
       "3         2                 Cozy condo in a quiet neighborhood   \n",
       "4         4             Luxurious house with high-end finishes   \n",
       "\n",
       "                         contact  \n",
       "0        John Doe - 123-456-7890  \n",
       "1      Jane Smith - 987-654-3210  \n",
       "2    Mike Johnson - 555-123-4567  \n",
       "3    Emily Wilson - 789-456-1230  \n",
       "4  David Thompson - 222-333-4444  "
      ]
     },
     "execution_count": 73,
     "metadata": {},
     "output_type": "execute_result"
    }
   ],
   "source": [
    "df = pd.DataFrame(listings_dicts)\n",
    "df.head()"
   ]
  },
  {
   "cell_type": "code",
   "execution_count": 101,
   "id": "8bc7ef98",
   "metadata": {},
   "outputs": [],
   "source": [
    "df.to_csv('real_estate_listings.csv', index_label = 'id')"
   ]
  },
  {
   "cell_type": "markdown",
   "id": "add302c1",
   "metadata": {},
   "source": [
    "## Semantic Search from Vector DB\n",
    "\n",
    "Loading the data from document"
   ]
  },
  {
   "cell_type": "code",
   "execution_count": 15,
   "id": "3db311b4",
   "metadata": {},
   "outputs": [],
   "source": [
    "loader = CSVLoader(file_path='./real_estate_listings.csv')\n",
    "docs = loader.load()"
   ]
  },
  {
   "cell_type": "markdown",
   "id": "e29f281e",
   "metadata": {},
   "source": [
    "Preparing to load the data in vector DB"
   ]
  },
  {
   "cell_type": "code",
   "execution_count": 18,
   "id": "e409c602",
   "metadata": {},
   "outputs": [],
   "source": [
    "splitter = CharacterTextSplitter(chunk_size=1000, chunk_overlap=0)\n",
    "split_docs = splitter.split_documents(docs)\n",
    "\n",
    "embeddings = OpenAIEmbeddings()"
   ]
  },
  {
   "cell_type": "code",
   "execution_count": 19,
   "id": "1201dc67",
   "metadata": {},
   "outputs": [
    {
     "data": {
      "text/plain": [
       "'id: 0\\nneighborhood: Westwood\\narea: 1,200 sqft\\nprice: $500,000\\ntype_: Condo\\nhouse_size: 1,000 sqft\\nbedrooms: 2\\nbathrooms: 2\\ndescription: Beautiful condo in the heart of Westwood with stunning views.\\ncontact: John Smith - 555-555-5555'"
      ]
     },
     "execution_count": 19,
     "metadata": {},
     "output_type": "execute_result"
    }
   ],
   "source": [
    "split_docs[0].page_content"
   ]
  },
  {
   "cell_type": "code",
   "execution_count": 17,
   "id": "0d5ea5c8",
   "metadata": {},
   "outputs": [
    {
     "data": {
      "text/plain": [
       "True"
      ]
     },
     "execution_count": 17,
     "metadata": {},
     "output_type": "execute_result"
    }
   ],
   "source": [
    "os.path.exists(\"chroma_db\")"
   ]
  },
  {
   "cell_type": "code",
   "execution_count": 21,
   "id": "c6b38c87-0c5b-406a-983b-16fbc70badcb",
   "metadata": {},
   "outputs": [],
   "source": [
    "persist_directory = \"chromadb\""
   ]
  },
  {
   "cell_type": "code",
   "execution_count": 22,
   "id": "49c62107",
   "metadata": {
    "scrolled": true
   },
   "outputs": [],
   "source": [
    "db = Chroma.from_documents(split_docs, embeddings, persist_directory=persist_directory)"
   ]
  },
  {
   "cell_type": "code",
   "execution_count": 22,
   "id": "9c0232d3",
   "metadata": {},
   "outputs": [
    {
     "data": {
      "application/vnd.jupyter.widget-view+json": {
       "model_id": "6b3def69520c458f9623e9baf284bfcb",
       "version_major": 2,
       "version_minor": 0
      },
      "text/plain": [
       "modules.json:   0%|          | 0.00/349 [00:00<?, ?B/s]"
      ]
     },
     "metadata": {},
     "output_type": "display_data"
    },
    {
     "name": "stderr",
     "output_type": "stream",
     "text": [
      "C:\\Users\\shadm\\.virtualenvs\\temp_udacity-1G4sVX9O\\Lib\\site-packages\\huggingface_hub\\file_download.py:157: UserWarning: `huggingface_hub` cache-system uses symlinks by default to efficiently store duplicated files but your machine does not support them in C:\\Users\\shadm\\.cache\\huggingface\\hub\\models--sentence-transformers--all-MiniLM-L6-v2. Caching files will still work but in a degraded version that might require more space on your disk. This warning can be disabled by setting the `HF_HUB_DISABLE_SYMLINKS_WARNING` environment variable. For more details, see https://huggingface.co/docs/huggingface_hub/how-to-cache#limitations.\n",
      "To support symlinks on Windows, you either need to activate Developer Mode or to run Python as an administrator. In order to see activate developer mode, see this article: https://docs.microsoft.com/en-us/windows/apps/get-started/enable-your-device-for-development\n",
      "  warnings.warn(message)\n"
     ]
    },
    {
     "data": {
      "application/vnd.jupyter.widget-view+json": {
       "model_id": "1a28c2ea5c404900a82cc73fbf4a8ad7",
       "version_major": 2,
       "version_minor": 0
      },
      "text/plain": [
       "config_sentence_transformers.json:   0%|          | 0.00/116 [00:00<?, ?B/s]"
      ]
     },
     "metadata": {},
     "output_type": "display_data"
    },
    {
     "data": {
      "application/vnd.jupyter.widget-view+json": {
       "model_id": "259bed9394244b45acaa536398d41a44",
       "version_major": 2,
       "version_minor": 0
      },
      "text/plain": [
       "README.md:   0%|          | 0.00/10.7k [00:00<?, ?B/s]"
      ]
     },
     "metadata": {},
     "output_type": "display_data"
    },
    {
     "data": {
      "application/vnd.jupyter.widget-view+json": {
       "model_id": "f991b0496c304cb4b6f67351895cbaba",
       "version_major": 2,
       "version_minor": 0
      },
      "text/plain": [
       "sentence_bert_config.json:   0%|          | 0.00/53.0 [00:00<?, ?B/s]"
      ]
     },
     "metadata": {},
     "output_type": "display_data"
    },
    {
     "name": "stderr",
     "output_type": "stream",
     "text": [
      "C:\\Users\\shadm\\.virtualenvs\\temp_udacity-1G4sVX9O\\Lib\\site-packages\\huggingface_hub\\file_download.py:1132: FutureWarning: `resume_download` is deprecated and will be removed in version 1.0.0. Downloads always resume when possible. If you want to force a new download, use `force_download=True`.\n",
      "  warnings.warn(\n"
     ]
    },
    {
     "data": {
      "application/vnd.jupyter.widget-view+json": {
       "model_id": "863cca99d52c4af7b7d9dfca57d5452f",
       "version_major": 2,
       "version_minor": 0
      },
      "text/plain": [
       "config.json:   0%|          | 0.00/612 [00:00<?, ?B/s]"
      ]
     },
     "metadata": {},
     "output_type": "display_data"
    },
    {
     "name": "stderr",
     "output_type": "stream",
     "text": [
      "C:\\Users\\shadm\\.virtualenvs\\temp_udacity-1G4sVX9O\\Lib\\site-packages\\huggingface_hub\\file_download.py:1132: FutureWarning: `resume_download` is deprecated and will be removed in version 1.0.0. Downloads always resume when possible. If you want to force a new download, use `force_download=True`.\n",
      "  warnings.warn(\n"
     ]
    },
    {
     "data": {
      "application/vnd.jupyter.widget-view+json": {
       "model_id": "ac858d4ce31b499c9033f20eabf31e1a",
       "version_major": 2,
       "version_minor": 0
      },
      "text/plain": [
       "model.safetensors:   0%|          | 0.00/90.9M [00:00<?, ?B/s]"
      ]
     },
     "metadata": {},
     "output_type": "display_data"
    },
    {
     "data": {
      "application/vnd.jupyter.widget-view+json": {
       "model_id": "3dc9bc6604a948d69d535f37b2e57cbc",
       "version_major": 2,
       "version_minor": 0
      },
      "text/plain": [
       "tokenizer_config.json:   0%|          | 0.00/350 [00:00<?, ?B/s]"
      ]
     },
     "metadata": {},
     "output_type": "display_data"
    },
    {
     "data": {
      "application/vnd.jupyter.widget-view+json": {
       "model_id": "e9ec44fa169649eb8824f6db88345d4b",
       "version_major": 2,
       "version_minor": 0
      },
      "text/plain": [
       "vocab.txt:   0%|          | 0.00/232k [00:00<?, ?B/s]"
      ]
     },
     "metadata": {},
     "output_type": "display_data"
    },
    {
     "data": {
      "application/vnd.jupyter.widget-view+json": {
       "model_id": "2f5200336fd24cdd83e972e13b2a2c9c",
       "version_major": 2,
       "version_minor": 0
      },
      "text/plain": [
       "tokenizer.json:   0%|          | 0.00/466k [00:00<?, ?B/s]"
      ]
     },
     "metadata": {},
     "output_type": "display_data"
    },
    {
     "data": {
      "application/vnd.jupyter.widget-view+json": {
       "model_id": "398ff75f2801417d9512e102a21d9263",
       "version_major": 2,
       "version_minor": 0
      },
      "text/plain": [
       "special_tokens_map.json:   0%|          | 0.00/112 [00:00<?, ?B/s]"
      ]
     },
     "metadata": {},
     "output_type": "display_data"
    },
    {
     "data": {
      "application/vnd.jupyter.widget-view+json": {
       "model_id": "e60ff3e2a1e24c429e8a72b2203e2953",
       "version_major": 2,
       "version_minor": 0
      },
      "text/plain": [
       "1_Pooling/config.json:   0%|          | 0.00/190 [00:00<?, ?B/s]"
      ]
     },
     "metadata": {},
     "output_type": "display_data"
    },
    {
     "name": "stdout",
     "output_type": "stream",
     "text": [
      "id: 5\n",
      "neighborhood: Marina del Rey\n",
      "area: 1,700 sqft\n",
      "price: $750,000\n",
      "type_: Apartment\n",
      "house_size: 1,400 sqft\n",
      "bedrooms: 2\n",
      "bathrooms: 2\n",
      "description: Luxurious apartment with stunning views of the marina in Marina del Rey.\n",
      "contact: Emily Jones - 555-555-5555\n"
     ]
    }
   ],
   "source": [
    "\n",
    "# load the document and split it into chunks\n",
    "loader = CSVLoader(file_path='./real_estate_listings.csv')\n",
    "documents = loader.load()\n",
    "\n",
    "# split it into chunks\n",
    "text_splitter = CharacterTextSplitter(chunk_size=1000, chunk_overlap=0)\n",
    "docs = text_splitter.split_documents(documents)\n"
   ]
  },
  {
   "cell_type": "code",
   "execution_count": null,
   "id": "841d6c34-37f6-42a4-ab45-ab141486983b",
   "metadata": {},
   "outputs": [],
   "source": [
    "\n",
    "# load it into Chroma\n",
    "db = Chroma.from_documents(docs, embedding_function)\n",
    "\n",
    "# query it\n",
    "query = \"What did the president say about Ketanji Brown Jackson\"\n",
    "docs = db.similarity_search(query)\n",
    "\n",
    "# print results\n",
    "print(docs[0].page_content)"
   ]
  },
  {
   "cell_type": "code",
   "execution_count": null,
   "id": "13c78a61-5211-4194-bd23-88e8168997d4",
   "metadata": {},
   "outputs": [],
   "source": []
  },
  {
   "cell_type": "markdown",
   "id": "e1dd004f-0fa5-4fdf-b93d-0a617a9d84f7",
   "metadata": {},
   "source": [
    "### Seimilarity Search"
   ]
  },
  {
   "cell_type": "code",
   "execution_count": 25,
   "id": "13963da9-6a50-4abc-b290-848cad6f7910",
   "metadata": {},
   "outputs": [],
   "source": [
    "import time"
   ]
  },
  {
   "cell_type": "code",
   "execution_count": 27,
   "id": "e8532329-efd6-4fe1-b224-f8401260eedc",
   "metadata": {},
   "outputs": [],
   "source": [
    "query = \"Apartment near westwood neighborhood\""
   ]
  },
  {
   "cell_type": "code",
   "execution_count": 37,
   "id": "0a9cd2f9-00fa-4851-bbac-e17bb5b019b6",
   "metadata": {},
   "outputs": [
    {
     "name": "stdout",
     "output_type": "stream",
     "text": [
      "4\n",
      "Number of results: 4\n",
      "Content of the first result: id: 0\n",
      "neighborhood: Westwood\n",
      "area: 1,200 sqft\n",
      "price: $500,000\n",
      "type_: Condo\n",
      "house_size: 1,000 sqft\n",
      "bedrooms: 2\n",
      "bathrooms: 2\n",
      "description: Beautiful condo in the heart of Westwood with stunning views.\n",
      "contact: John Smith - 555-555-5555\n",
      "Time taken for the search: 0.449080228805542 seconds\n"
     ]
    }
   ],
   "source": [
    "start_time = time.time()\n",
    "result = db.similarity_search(query)\n",
    "end_time = time.time()\n",
    "elapsed_time = end_time - start_time\n",
    "print(len(result))\n",
    "print(f\"Number of results: {len(result)}\")\n",
    "if result:\n",
    "    print(f\"Content of the first result: {result[0].page_content}\")\n",
    "print(f\"Time taken for the search: {elapsed_time} seconds\")"
   ]
  },
  {
   "cell_type": "markdown",
   "id": "6edc56a9-8c50-4225-8839-ffb8dccba94f",
   "metadata": {},
   "source": [
    "## QA ChatBot For Real-Estate \n",
    "Retreival based chatbot"
   ]
  },
  {
   "cell_type": "code",
   "execution_count": 74,
   "id": "56d5611f-980e-40a6-99f8-efd3101ec57c",
   "metadata": {},
   "outputs": [],
   "source": [
    "home_llm = ChatOpenAI(\n",
    "    model=\"gpt-3.5-turbo-16k\",\n",
    "    temperature=0,\n",
    "    max_tokens=1000\n",
    ")"
   ]
  },
  {
   "cell_type": "code",
   "execution_count": 81,
   "id": "8b0a3c2c-ad51-490a-aec5-d76f2f2fb063",
   "metadata": {},
   "outputs": [],
   "source": [
    "prompt_template = \"\"\"\n",
    "Act as an real estate agent. You will receive simple summury about an users' real-estate need\n",
    "You will suggest the user the best option for him based on the following real estate listings: \n",
    "<Listings>\n",
    "{context}\n",
    "</Listings>\n",
    "\n",
    "Summury: {input}\n",
    "\"\"\"\n",
    "prompt = ChatPromptTemplate.from_template(prompt_template)"
   ]
  },
  {
   "cell_type": "markdown",
   "id": "965a61a6-1fdf-4b15-ba54-549d2e5762f7",
   "metadata": {},
   "source": [
    "I will use `create_stuff_documents_chain` function.  This chain will take an incoming question, look up relevant documents, then pass those documents along with the original question into an LLM and ask it to answer the original question."
   ]
  },
  {
   "cell_type": "code",
   "execution_count": 82,
   "id": "a78c557a-7a30-466d-b8c4-fe571b8c1c58",
   "metadata": {},
   "outputs": [],
   "source": [
    "home_search_chain = create_stuff_documents_chain(home_llm, prompt)"
   ]
  },
  {
   "cell_type": "markdown",
   "id": "5d13ab94-3ac4-403d-af37-52b6925022c9",
   "metadata": {},
   "source": [
    "#### Creating the retriever to get relavant info from the vector db:\n",
    "The retreiver will provide the context variable to the home_search_chain"
   ]
  },
  {
   "cell_type": "code",
   "execution_count": 83,
   "id": "2e229560-2551-400b-90d2-d1349ae6ce79",
   "metadata": {},
   "outputs": [],
   "source": [
    "#  retreived document \n",
    "retriever = db.as_retriever()\n",
    "retrieval_chain = create_retrieval_chain(retriever, home_search_chain)"
   ]
  },
  {
   "cell_type": "markdown",
   "id": "ff25805f-2293-4eaf-aed6-8a0897006336",
   "metadata": {},
   "source": [
    "**Invoking the chain**"
   ]
  },
  {
   "cell_type": "code",
   "execution_count": 84,
   "id": "0b771ba0-7d21-4297-b307-5362e244807c",
   "metadata": {},
   "outputs": [],
   "source": [
    "response = retrieval_chain.invoke({\"input\": \"We need a home near Westwood neighborhood with atleast 1000 sqft area\"})"
   ]
  },
  {
   "cell_type": "code",
   "execution_count": 86,
   "id": "e33790db-a09f-423d-89b8-0c9f5737ebe3",
   "metadata": {},
   "outputs": [
    {
     "name": "stdout",
     "output_type": "stream",
     "text": [
      "Based on your needs, I would recommend considering the condo in Westwood. It has a beautiful view and meets your minimum requirement of 1000 sqft area. The condo has 2 bedrooms and 2 bathrooms, making it suitable for a small family or individuals looking for extra space. The price is $500,000, which is within your budget. If you are interested, you can contact John Smith at 555-555-5555 for more information or to schedule a viewing.\n"
     ]
    }
   ],
   "source": [
    "print(response[\"answer\"])"
   ]
  },
  {
   "cell_type": "markdown",
   "id": "c325b7a8-7b9c-4b50-8b79-4828cb2f4dba",
   "metadata": {},
   "source": [
    "### Building a chat bot with support for conversation (with history)\n",
    "We will use: `create_history_aware_retriever`. \n",
    "- Create a chain that takes conversation history and returns documents.\n",
    "\n",
    "**Parameters:**\n",
    "- llm – Language model to use for generating a search term given chat history\n",
    "\n",
    "- retriever (Runnable[str, List[Document]]) – RetrieverLike object that takes a string as input and outputs a list of Documents. (In this case it is the chroma db retriever) \n",
    "\n",
    "- prompt (BasePromptTemplate) – The prompt used to generate the search query for the retriever."
   ]
  },
  {
   "cell_type": "code",
   "execution_count": 92,
   "id": "bb68c90f-d5e0-4548-a566-47ff83ca8428",
   "metadata": {},
   "outputs": [],
   "source": [
    "from langchain.chains import create_history_aware_retriever\n",
    "from langchain_core.prompts import MessagesPlaceholder\n",
    "from langchain_core.messages import HumanMessage, AIMessage"
   ]
  },
  {
   "cell_type": "code",
   "execution_count": 106,
   "id": "aa242e9a-88e7-4c59-9532-0f84cdbcd467",
   "metadata": {},
   "outputs": [],
   "source": [
    "### Prompt with history:\n",
    "summurygen_prompt = ChatPromptTemplate.from_messages(\n",
    "    [\n",
    "        (\"system\", \"You are a real estate assistant to provide requirement summury based on users need\"),\n",
    "        MessagesPlaceholder(variable_name=\"chat_history\", optional=True),\n",
    "        (\"user\", \"{input}\"),\n",
    "        (\"user\", \"Given the above conversation, generate a summury of the real estate need\") \n",
    "    ]\n",
    ")\n",
    "\n",
    "# This creates a search query from previous chats and return the retreived document \n",
    "retriever_chain = create_history_aware_retriever(home_llm, retriever, summurygen_prompt)"
   ]
  },
  {
   "cell_type": "markdown",
   "id": "e2f74bd3-82ef-4c71-91d7-b0f1846a92c9",
   "metadata": {},
   "source": [
    "Example of using the history prompt:\n",
    "```\n",
    "prompt = summury_prompt.format_messages(\n",
    "    chat_history=[], \n",
    "    ..other values e.b. inputs, contexts etc.\n",
    ")\n",
    "res = summury_gen.invoke(prompt)\n",
    "```"
   ]
  },
  {
   "cell_type": "code",
   "execution_count": 107,
   "id": "4f2a6c98-33c4-4b63-9659-ab320e39d773",
   "metadata": {},
   "outputs": [],
   "source": [
    "chat_history = [\n",
    "    HumanMessage(content=\"I am looking for a house in Westwood\"), \n",
    "    AIMessage(content=\"Yeah sure. Can you tell me about the area, number of rooms and other details\"),\n",
    "    HumanMessage(content=\"Sure. Number of room should be minimum 2 with proper bathrooms but the area must be above 1000 sq ft\"),\n",
    "    AIMessage(content=\"Noted. Is there anything else you need?\")\n",
    "]"
   ]
  },
  {
   "cell_type": "code",
   "execution_count": 112,
   "id": "75594e1c-3fee-41e7-a8e8-980481e68fb6",
   "metadata": {},
   "outputs": [],
   "source": [
    "retreived_doc = retriever_chain.invoke({\n",
    "    \"chat_history\": chat_history,\n",
    "    \"input\": \"No\"\n",
    "})"
   ]
  },
  {
   "cell_type": "code",
   "execution_count": 113,
   "id": "d5025bf4-7a64-45d0-bafa-b588ff02fc09",
   "metadata": {},
   "outputs": [
    {
     "data": {
      "text/plain": [
       "[Document(page_content='id: 0\\nneighborhood: Westwood\\narea: 1,200 sqft\\nprice: $500,000\\ntype_: Condo\\nhouse_size: 1,000 sqft\\nbedrooms: 2\\nbathrooms: 2\\ndescription: Beautiful condo in the heart of Westwood with stunning views.\\ncontact: John Smith - 555-555-5555', metadata={'row': 0, 'source': './real_estate_listings.csv'}),\n",
       " Document(page_content='id: 1\\nneighborhood: Brentwood\\narea: 2,500 sqft\\nprice: $1,200,000\\ntype_: House\\nhouse_size: 2,000 sqft\\nbedrooms: 4\\nbathrooms: 3\\ndescription: Spacious and modern house in the desirable Brentwood neighborhood.\\ncontact: Jane Doe - 555-555-5555', metadata={'row': 1, 'source': './real_estate_listings.csv'}),\n",
       " Document(page_content='id: 6\\nneighborhood: Playa Vista\\narea: 2,200 sqft\\nprice: $1,100,000\\ntype_: House\\nhouse_size: 2,000 sqft\\nbedrooms: 4\\nbathrooms: 3\\ndescription: Modern and spacious house in the up-and-coming Playa Vista neighborhood.\\ncontact: David Lee - 555-555-5555', metadata={'row': 6, 'source': './real_estate_listings.csv'}),\n",
       " Document(page_content='id: 4\\nneighborhood: Culver City\\narea: 2,000 sqft\\nprice: $900,000\\ntype_: House\\nhouse_size: 1,800 sqft\\nbedrooms: 3\\nbathrooms: 2\\ndescription: Cozy and inviting house in the quiet Culver City neighborhood.\\ncontact: Mike Williams - 555-555-5555', metadata={'row': 4, 'source': './real_estate_listings.csv'})]"
      ]
     },
     "execution_count": 113,
     "metadata": {},
     "output_type": "execute_result"
    }
   ],
   "source": [
    "retreived_doc"
   ]
  },
  {
   "cell_type": "markdown",
   "id": "c25c06dc-6edb-4361-ab70-9f415f2c7d53",
   "metadata": {},
   "source": [
    "#### Creating the bot:\n",
    "Now we can create a new chain to conitnue the conversation based on the retreived doc above"
   ]
  },
  {
   "cell_type": "code",
   "execution_count": 115,
   "id": "03bafaae-dbeb-4cec-84f2-39bca1315edd",
   "metadata": {},
   "outputs": [],
   "source": [
    "system_template = \"\"\"\n",
    "Act as an real estate agent. Answer users question and give suggestion based on the following real estate listings: \n",
    "<Listings>\n",
    "{context}\n",
    "</Listings>\n",
    "\n",
    "Summury: {input}\n",
    "\"\"\"\n",
    "\n",
    "conversation_prompt = ChatPromptTemplate.from_messages([\n",
    "    (\"system\", system_template),\n",
    "    MessagesPlaceholder(variable_name=\"chat_history\"),\n",
    "    (\"user\", \"{input}\"),\n",
    "])"
   ]
  },
  {
   "cell_type": "markdown",
   "id": "114d531d-1731-4413-8dd5-1d4e65b1d364",
   "metadata": {},
   "source": [
    " > `home_data_chain` gets invoked inside the retrieval_chain to give ai response based on the document from retriever chain"
   ]
  },
  {
   "cell_type": "code",
   "execution_count": null,
   "id": "0031ea8e-a50f-4107-b1a7-17a16bde7315",
   "metadata": {},
   "outputs": [],
   "source": [
    "home_data_chain = create_stuff_documents_chain(home_llm, conversation_prompt) \n",
    "\n",
    "retrieval_chain = create_retrieval_chain(retriever_chain, home_data_chain)"
   ]
  },
  {
   "cell_type": "code",
   "execution_count": 116,
   "id": "97691d6e-4f72-4550-8f98-4df778af361e",
   "metadata": {
    "scrolled": true
   },
   "outputs": [
    {
     "data": {
      "text/plain": [
       "{'chat_history': [HumanMessage(content='I am looking for a house in Westwood'),\n",
       "  AIMessage(content='Yeah sure. Can you tell me about the area, number of rooms and other details'),\n",
       "  HumanMessage(content='Sure. Number of room should be minimum 2 with proper bathrooms but the area must be above 1000 sq ft'),\n",
       "  AIMessage(content='Noted. Is there anything else you need?')],\n",
       " 'input': 'Give me the best offer for my need',\n",
       " 'context': [Document(page_content='id: 9\\nneighborhood: Beverly Hills\\narea: 4,000 sqft\\nprice: $2,500,000\\ntype_: House\\nhouse_size: 3,500 sqft\\nbedrooms: 4\\nbathrooms: 4\\ndescription: Elegant and luxurious house in the prestigious Beverly Hills neighborhood.\\ncontact: Jennifer Smith - 555-555-5555', metadata={'row': 9, 'source': './real_estate_listings.csv'}),\n",
       "  Document(page_content='id: 3\\nneighborhood: Venice\\narea: 1,500 sqft\\nprice: $700,000\\ntype_: Condo\\nhouse_size: 1,200 sqft\\nbedrooms: 2\\nbathrooms: 2\\ndescription: Modern and stylish condo in the trendy Venice neighborhood.\\ncontact: Samantha Brown - 555-555-5555', metadata={'row': 3, 'source': './real_estate_listings.csv'}),\n",
       "  Document(page_content='id: 2\\nneighborhood: Santa Monica\\narea: 1,800 sqft\\nprice: $800,000\\ntype_: Apartment\\nhouse_size: 1,500 sqft\\nbedrooms: 3\\nbathrooms: 2\\ndescription: Charming apartment in the heart of Santa Monica, just steps away from the beach.\\ncontact: Bob Johnson - 555-555-5555', metadata={'row': 2, 'source': './real_estate_listings.csv'}),\n",
       "  Document(page_content='id: 1\\nneighborhood: Brentwood\\narea: 2,500 sqft\\nprice: $1,200,000\\ntype_: House\\nhouse_size: 2,000 sqft\\nbedrooms: 4\\nbathrooms: 3\\ndescription: Spacious and modern house in the desirable Brentwood neighborhood.\\ncontact: Jane Doe - 555-555-5555', metadata={'row': 1, 'source': './real_estate_listings.csv'})],\n",
       " 'answer': 'Based on your needs, I would recommend the following listing:\\n\\nListing ID: 1\\nNeighborhood: Brentwood\\nArea: 2,500 sqft\\nPrice: $1,200,000\\nType: House\\nHouse Size: 2,000 sqft\\nBedrooms: 4\\nBathrooms: 3\\nDescription: Spacious and modern house in the desirable Brentwood neighborhood.\\n\\nThis house offers ample space with 4 bedrooms and 3 bathrooms, perfect for a family or someone who values extra room. The Brentwood neighborhood is highly sought after and known for its desirable location. The price of $1,200,000 is competitive for the area and the house itself is modern and well-maintained.\\n\\nIf you are interested in this listing or would like to schedule a viewing, please feel free to contact Jane Doe at 555-555-5555.'}"
      ]
     },
     "execution_count": 116,
     "metadata": {},
     "output_type": "execute_result"
    }
   ],
   "source": [
    "retrieval_chain.invoke({\n",
    "    \"chat_history\": chat_history,\n",
    "    \"input\": \"Give me the best offer for my need\"\n",
    "})"
   ]
  },
  {
   "cell_type": "code",
   "execution_count": 121,
   "id": "6be30b2f-4391-4f1b-878b-e837da121363",
   "metadata": {},
   "outputs": [
    {
     "data": {
      "text/plain": [
       "'Based on your needs, I would recommend the following listing:\\n\\nListing ID: 1\\nNeighborhood: Brentwood\\nArea: 2,500 sqft\\nPrice: $1,200,000\\nType: House\\nHouse Size: 2,000 sqft\\nBedrooms: 4\\nBathrooms: 3\\nDescription: Spacious and modern house in the desirable Brentwood neighborhood.\\n\\nThis house offers ample space with 4 bedrooms and 3 bathrooms, perfect for a family or someone who values extra room. The Brentwood neighborhood is highly sought after and known for its desirable location. The price of $1,200,000 is competitive for the area and the house itself is modern and well-maintained.\\n\\nIf you are interested in this listing or would like to schedule a viewing, please feel free to contact Jane Doe at 555-555-5555.'"
      ]
     },
     "execution_count": 121,
     "metadata": {},
     "output_type": "execute_result"
    }
   ],
   "source": [
    "retrieval_chain.invoke({\n",
    "    \"chat_history\": chat_history,\n",
    "    \"input\": \"Give me the best offer for my need\"\n",
    "})['answer']"
   ]
  },
  {
   "cell_type": "markdown",
   "id": "3c6dba1a-00b0-470c-a6c2-9297027648d4",
   "metadata": {},
   "source": [
    "Future Work: To integrate all these things we can create AI agents to let the ai decide which step to take"
   ]
  }
 ],
 "metadata": {
  "kernelspec": {
   "display_name": "Python 3 (ipykernel)",
   "language": "python",
   "name": "python3"
  },
  "language_info": {
   "codemirror_mode": {
    "name": "ipython",
    "version": 3
   },
   "file_extension": ".py",
   "mimetype": "text/x-python",
   "name": "python",
   "nbconvert_exporter": "python",
   "pygments_lexer": "ipython3",
   "version": "3.11.5"
  }
 },
 "nbformat": 4,
 "nbformat_minor": 5
}
