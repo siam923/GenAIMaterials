{
 "cells": [
  {
   "cell_type": "markdown",
   "id": "124e5672",
   "metadata": {},
   "source": [
    "# Custom Chatbot Project"
   ]
  },
  {
   "cell_type": "markdown",
   "id": "2a4a94b3",
   "metadata": {},
   "source": [
    "I used the Wikipedia API to gather general news from 2024. The chatbot will leverage this dataset to provide relevant responses. This demonstrates how large language models with retrieval-augmented generation can efficiently access and deliver the necessary information from news sources."
   ]
  },
  {
   "cell_type": "code",
   "execution_count": 29,
   "id": "9e3b78f0",
   "metadata": {
    "scrolled": true
   },
   "outputs": [
    {
     "name": "stdout",
     "output_type": "stream",
     "text": [
      "Name: openai\r\n",
      "Version: 0.26.1\r\n",
      "Summary: Python client library for the OpenAI API\r\n",
      "Home-page: https://github.com/openai/openai-python\r\n",
      "Author: OpenAI\r\n",
      "Author-email: support@openai.com\r\n",
      "License: \r\n",
      "Location: /opt/venv/lib/python3.9/site-packages\r\n",
      "Requires: aiohttp, requests, tqdm\r\n",
      "Required-by: \r\n"
     ]
    }
   ],
   "source": [
    "!pip show openai"
   ]
  },
  {
   "cell_type": "code",
   "execution_count": 52,
   "id": "365271d2",
   "metadata": {},
   "outputs": [],
   "source": [
    "import openai\n",
    "import pandas as pd\n",
    "import requests\n",
    "from openai.embeddings_utils import get_embedding, distances_from_embeddings\n",
    "import tiktoken\n",
    "from dateutil.parser import parse\n",
    "import re\n"
   ]
  },
  {
   "cell_type": "code",
   "execution_count": 116,
   "id": "1dc5ed6a",
   "metadata": {},
   "outputs": [],
   "source": [
    "OPENAI_API_KEY = \"your key\"\n",
    "openai.api_key = api_key=OPENAI_API_KEY"
   ]
  },
  {
   "cell_type": "code",
   "execution_count": 59,
   "id": "33af9d3e",
   "metadata": {},
   "outputs": [],
   "source": [
    "wiki_2024= \"https://en.wikipedia.org/w/api.php?action=query&prop=extracts&exlimit=1&titles=2024&explaintext=1&formatversion=2&format=json\"\n",
    "CSV_EMBEDDINGS = './wikipedia_with_embeddings.csv'\n",
    "\n",
    "# OpenAI Setup\n",
    "EMBEDDING_MODEL_NAME = 'text-embedding-3-small'\n",
    "COMPLETION_MODEL_NAME = 'gpt-3.5-turbo-instruct'\n",
    "\n",
    "# Training Setup\n",
    "batch_size = 100"
   ]
  },
  {
   "cell_type": "code",
   "execution_count": null,
   "id": "eecdb0ac",
   "metadata": {},
   "outputs": [],
   "source": []
  },
  {
   "cell_type": "markdown",
   "id": "a63d4c5f",
   "metadata": {},
   "source": [
    "## Data Wrangling\n",
    "\n",
    "TODO: In the cells below, load your chosen dataset into a `pandas` dataframe with a column named `\"text\"`. This column should contain all of your text data, separated into at least 20 rows."
   ]
  },
  {
   "cell_type": "code",
   "execution_count": 60,
   "id": "c69b83a1",
   "metadata": {
    "scrolled": true
   },
   "outputs": [
    {
     "data": {
      "text/html": [
       "<div>\n",
       "<style scoped>\n",
       "    .dataframe tbody tr th:only-of-type {\n",
       "        vertical-align: middle;\n",
       "    }\n",
       "\n",
       "    .dataframe tbody tr th {\n",
       "        vertical-align: top;\n",
       "    }\n",
       "\n",
       "    .dataframe thead th {\n",
       "        text-align: right;\n",
       "    }\n",
       "</style>\n",
       "<table border=\"1\" class=\"dataframe\">\n",
       "  <thead>\n",
       "    <tr style=\"text-align: right;\">\n",
       "      <th></th>\n",
       "      <th>text</th>\n",
       "    </tr>\n",
       "  </thead>\n",
       "  <tbody>\n",
       "    <tr>\n",
       "      <th>0</th>\n",
       "      <td>2024 (MMXXIV) is the current year, and is a le...</td>\n",
       "    </tr>\n",
       "    <tr>\n",
       "      <th>1</th>\n",
       "      <td>So far, this year has witnessed the continuati...</td>\n",
       "    </tr>\n",
       "    <tr>\n",
       "      <th>2</th>\n",
       "      <td>Approximately 79 countries, representing aroun...</td>\n",
       "    </tr>\n",
       "    <tr>\n",
       "      <th>3</th>\n",
       "      <td></td>\n",
       "    </tr>\n",
       "    <tr>\n",
       "      <th>4</th>\n",
       "      <td></td>\n",
       "    </tr>\n",
       "    <tr>\n",
       "      <th>...</th>\n",
       "      <td>...</td>\n",
       "    </tr>\n",
       "    <tr>\n",
       "      <th>136</th>\n",
       "      <td></td>\n",
       "    </tr>\n",
       "    <tr>\n",
       "      <th>137</th>\n",
       "      <td>== Notes ==</td>\n",
       "    </tr>\n",
       "    <tr>\n",
       "      <th>138</th>\n",
       "      <td></td>\n",
       "    </tr>\n",
       "    <tr>\n",
       "      <th>139</th>\n",
       "      <td></td>\n",
       "    </tr>\n",
       "    <tr>\n",
       "      <th>140</th>\n",
       "      <td>== References ==</td>\n",
       "    </tr>\n",
       "  </tbody>\n",
       "</table>\n",
       "<p>141 rows × 1 columns</p>\n",
       "</div>"
      ],
      "text/plain": [
       "                                                  text\n",
       "0    2024 (MMXXIV) is the current year, and is a le...\n",
       "1    So far, this year has witnessed the continuati...\n",
       "2    Approximately 79 countries, representing aroun...\n",
       "3                                                     \n",
       "4                                                     \n",
       "..                                                 ...\n",
       "136                                                   \n",
       "137                                        == Notes ==\n",
       "138                                                   \n",
       "139                                                   \n",
       "140                                   == References ==\n",
       "\n",
       "[141 rows x 1 columns]"
      ]
     },
     "execution_count": 60,
     "metadata": {},
     "output_type": "execute_result"
    }
   ],
   "source": [
    "resp = requests.get(wiki_2024)\n",
    "# Load page text into a dataframe\n",
    "df = pd.DataFrame()\n",
    "df[\"text\"] = resp.json()[\"query\"][\"pages\"][0][\"extract\"].split(\"\\n\")\n",
    "\n",
    "df"
   ]
  },
  {
   "cell_type": "code",
   "execution_count": 61,
   "id": "0a595980",
   "metadata": {},
   "outputs": [],
   "source": [
    "# Cleaning up:\n",
    "df = df[(df[\"text\"].str.len() > 0) & (~df[\"text\"].str.startswith(\"==\"))]"
   ]
  },
  {
   "cell_type": "code",
   "execution_count": 62,
   "id": "007b0e86",
   "metadata": {},
   "outputs": [],
   "source": [
    "prefix = \"\"\n",
    "for i, row in df.iterrows():\n",
    "    text = row['text'].strip()\n",
    "    # Try to determine if the current row is a date\n",
    "    try:\n",
    "        # If the text can be parsed as a date, update the prefix\n",
    "        parse(text, fuzzy=False)\n",
    "        prefix = text\n",
    "    except ValueError:\n",
    "        # If it's not a date, check if we need to prepend the stored date\n",
    "        if \" – \" not in text and prefix:\n",
    "            # Concatenate the date prefix with the event description\n",
    "            df.at[i, 'text'] = prefix + \" – \" + text\n",
    "\n",
    "# Filter out any rows that still do not contain \" – \" (indicating missing dates or improperly formatted rows)\n",
    "df = df[df[\"text\"].str.contains(\" – \")]"
   ]
  },
  {
   "cell_type": "code",
   "execution_count": 64,
   "id": "720dfdd0",
   "metadata": {},
   "outputs": [
    {
     "data": {
      "text/html": [
       "<div>\n",
       "<style scoped>\n",
       "    .dataframe tbody tr th:only-of-type {\n",
       "        vertical-align: middle;\n",
       "    }\n",
       "\n",
       "    .dataframe tbody tr th {\n",
       "        vertical-align: top;\n",
       "    }\n",
       "\n",
       "    .dataframe thead th {\n",
       "        text-align: right;\n",
       "    }\n",
       "</style>\n",
       "<table border=\"1\" class=\"dataframe\">\n",
       "  <thead>\n",
       "    <tr style=\"text-align: right;\">\n",
       "      <th></th>\n",
       "      <th>text</th>\n",
       "    </tr>\n",
       "  </thead>\n",
       "  <tbody>\n",
       "    <tr>\n",
       "      <th>10</th>\n",
       "      <td>January 1 – Egypt, Ethiopia, Iran and the Unit...</td>\n",
       "    </tr>\n",
       "    <tr>\n",
       "      <th>11</th>\n",
       "      <td>January 1 – The Republic of Artsakh is formall...</td>\n",
       "    </tr>\n",
       "    <tr>\n",
       "      <th>12</th>\n",
       "      <td>January 1 – A 7.5 Mww earthquake strikes the w...</td>\n",
       "    </tr>\n",
       "    <tr>\n",
       "      <th>13</th>\n",
       "      <td>January 1 – Ethiopia announces an agreement wi...</td>\n",
       "    </tr>\n",
       "    <tr>\n",
       "      <th>14</th>\n",
       "      <td>January 2 – 2023 Marshallese general election:...</td>\n",
       "    </tr>\n",
       "    <tr>\n",
       "      <th>...</th>\n",
       "      <td>...</td>\n",
       "    </tr>\n",
       "    <tr>\n",
       "      <th>126</th>\n",
       "      <td>September – 2024 ICC Women's T20 World Cup.</td>\n",
       "    </tr>\n",
       "    <tr>\n",
       "      <th>127</th>\n",
       "      <td>September or October – 2024 Austrian legislati...</td>\n",
       "    </tr>\n",
       "    <tr>\n",
       "      <th>129</th>\n",
       "      <td>October – 2024 Botswana general election.</td>\n",
       "    </tr>\n",
       "    <tr>\n",
       "      <th>130</th>\n",
       "      <td>October – 2024 Georgian presidential election.</td>\n",
       "    </tr>\n",
       "    <tr>\n",
       "      <th>131</th>\n",
       "      <td>December – 2024 Croatian presidential election.</td>\n",
       "    </tr>\n",
       "  </tbody>\n",
       "</table>\n",
       "<p>100 rows × 1 columns</p>\n",
       "</div>"
      ],
      "text/plain": [
       "                                                  text\n",
       "10   January 1 – Egypt, Ethiopia, Iran and the Unit...\n",
       "11   January 1 – The Republic of Artsakh is formall...\n",
       "12   January 1 – A 7.5 Mww earthquake strikes the w...\n",
       "13   January 1 – Ethiopia announces an agreement wi...\n",
       "14   January 2 – 2023 Marshallese general election:...\n",
       "..                                                 ...\n",
       "126        September – 2024 ICC Women's T20 World Cup.\n",
       "127  September or October – 2024 Austrian legislati...\n",
       "129          October – 2024 Botswana general election.\n",
       "130     October – 2024 Georgian presidential election.\n",
       "131    December – 2024 Croatian presidential election.\n",
       "\n",
       "[100 rows x 1 columns]"
      ]
     },
     "execution_count": 64,
     "metadata": {},
     "output_type": "execute_result"
    }
   ],
   "source": [
    "df"
   ]
  },
  {
   "cell_type": "markdown",
   "id": "ce0c7412",
   "metadata": {},
   "source": [
    "### Create Embedding"
   ]
  },
  {
   "cell_type": "code",
   "execution_count": 65,
   "id": "5b1b344f",
   "metadata": {
    "scrolled": true
   },
   "outputs": [
    {
     "data": {
      "text/html": [
       "<div>\n",
       "<style scoped>\n",
       "    .dataframe tbody tr th:only-of-type {\n",
       "        vertical-align: middle;\n",
       "    }\n",
       "\n",
       "    .dataframe tbody tr th {\n",
       "        vertical-align: top;\n",
       "    }\n",
       "\n",
       "    .dataframe thead th {\n",
       "        text-align: right;\n",
       "    }\n",
       "</style>\n",
       "<table border=\"1\" class=\"dataframe\">\n",
       "  <thead>\n",
       "    <tr style=\"text-align: right;\">\n",
       "      <th></th>\n",
       "      <th>text</th>\n",
       "      <th>embeddings</th>\n",
       "    </tr>\n",
       "  </thead>\n",
       "  <tbody>\n",
       "    <tr>\n",
       "      <th>10</th>\n",
       "      <td>January 1 – Egypt, Ethiopia, Iran and the Unit...</td>\n",
       "      <td>[-0.05981713533401489, -0.02182900160551071, 0...</td>\n",
       "    </tr>\n",
       "    <tr>\n",
       "      <th>11</th>\n",
       "      <td>January 1 – The Republic of Artsakh is formall...</td>\n",
       "      <td>[-0.006478521972894669, -0.01933402195572853, ...</td>\n",
       "    </tr>\n",
       "    <tr>\n",
       "      <th>12</th>\n",
       "      <td>January 1 – A 7.5 Mww earthquake strikes the w...</td>\n",
       "      <td>[-0.007353253662586212, 0.03705304116010666, 0...</td>\n",
       "    </tr>\n",
       "    <tr>\n",
       "      <th>13</th>\n",
       "      <td>January 1 – Ethiopia announces an agreement wi...</td>\n",
       "      <td>[0.01613444834947586, -0.05987289920449257, 0....</td>\n",
       "    </tr>\n",
       "    <tr>\n",
       "      <th>14</th>\n",
       "      <td>January 2 – 2023 Marshallese general election:...</td>\n",
       "      <td>[0.023038113489747047, -0.020961811766028404, ...</td>\n",
       "    </tr>\n",
       "    <tr>\n",
       "      <th>...</th>\n",
       "      <td>...</td>\n",
       "      <td>...</td>\n",
       "    </tr>\n",
       "    <tr>\n",
       "      <th>126</th>\n",
       "      <td>September – 2024 ICC Women's T20 World Cup.</td>\n",
       "      <td>[-0.014973701909184456, -0.022901620715856552,...</td>\n",
       "    </tr>\n",
       "    <tr>\n",
       "      <th>127</th>\n",
       "      <td>September or October – 2024 Austrian legislati...</td>\n",
       "      <td>[-0.07156816869974136, -0.026048362255096436, ...</td>\n",
       "    </tr>\n",
       "    <tr>\n",
       "      <th>129</th>\n",
       "      <td>October – 2024 Botswana general election.</td>\n",
       "      <td>[0.007074444554746151, -0.0002971009525936097,...</td>\n",
       "    </tr>\n",
       "    <tr>\n",
       "      <th>130</th>\n",
       "      <td>October – 2024 Georgian presidential election.</td>\n",
       "      <td>[0.0004317939456086606, -0.03775555640459061, ...</td>\n",
       "    </tr>\n",
       "    <tr>\n",
       "      <th>131</th>\n",
       "      <td>December – 2024 Croatian presidential election.</td>\n",
       "      <td>[-0.015584276989102364, 0.006500031799077988, ...</td>\n",
       "    </tr>\n",
       "  </tbody>\n",
       "</table>\n",
       "<p>100 rows × 2 columns</p>\n",
       "</div>"
      ],
      "text/plain": [
       "                                                  text  \\\n",
       "10   January 1 – Egypt, Ethiopia, Iran and the Unit...   \n",
       "11   January 1 – The Republic of Artsakh is formall...   \n",
       "12   January 1 – A 7.5 Mww earthquake strikes the w...   \n",
       "13   January 1 – Ethiopia announces an agreement wi...   \n",
       "14   January 2 – 2023 Marshallese general election:...   \n",
       "..                                                 ...   \n",
       "126        September – 2024 ICC Women's T20 World Cup.   \n",
       "127  September or October – 2024 Austrian legislati...   \n",
       "129          October – 2024 Botswana general election.   \n",
       "130     October – 2024 Georgian presidential election.   \n",
       "131    December – 2024 Croatian presidential election.   \n",
       "\n",
       "                                            embeddings  \n",
       "10   [-0.05981713533401489, -0.02182900160551071, 0...  \n",
       "11   [-0.006478521972894669, -0.01933402195572853, ...  \n",
       "12   [-0.007353253662586212, 0.03705304116010666, 0...  \n",
       "13   [0.01613444834947586, -0.05987289920449257, 0....  \n",
       "14   [0.023038113489747047, -0.020961811766028404, ...  \n",
       "..                                                 ...  \n",
       "126  [-0.014973701909184456, -0.022901620715856552,...  \n",
       "127  [-0.07156816869974136, -0.026048362255096436, ...  \n",
       "129  [0.007074444554746151, -0.0002971009525936097,...  \n",
       "130  [0.0004317939456086606, -0.03775555640459061, ...  \n",
       "131  [-0.015584276989102364, 0.006500031799077988, ...  \n",
       "\n",
       "[100 rows x 2 columns]"
      ]
     },
     "execution_count": 65,
     "metadata": {},
     "output_type": "execute_result"
    }
   ],
   "source": [
    "\n",
    "embeddings = []\n",
    "for i in range(0, len(df), batch_size):\n",
    "    # Send text data to OpenAI model to get embeddings\n",
    "    response = openai.Embedding.create(\n",
    "        input=df.iloc[i:i+batch_size][\"text\"].tolist(),\n",
    "        engine=EMBEDDING_MODEL_NAME\n",
    "    )\n",
    "    \n",
    "    # Add embeddings to list\n",
    "    embeddings.extend([data[\"embedding\"] for data in response[\"data\"]])\n",
    "\n",
    "# Add embeddings list to dataframe\n",
    "df[\"embeddings\"] = embeddings\n",
    "df"
   ]
  },
  {
   "cell_type": "code",
   "execution_count": 12,
   "id": "baffa4a5",
   "metadata": {},
   "outputs": [],
   "source": [
    "df.to_csv(CSV_EMBEDDINGS)"
   ]
  },
  {
   "cell_type": "markdown",
   "id": "29c0a5bb",
   "metadata": {},
   "source": [
    "#### Getting relevant data from vector storage"
   ]
  },
  {
   "cell_type": "code",
   "execution_count": 66,
   "id": "fe19f26e",
   "metadata": {},
   "outputs": [],
   "source": [
    "def get_rows_sorted_by_relevance(question, df):\n",
    "    \"\"\"\n",
    "    Function that takes in a question string and a dataframe containing\n",
    "    rows of text and associated embeddings, and returns that dataframe\n",
    "    sorted from least to most relevant for that question\n",
    "    \"\"\"\n",
    "    \n",
    "    # Get embeddings for the question text\n",
    "    question_embeddings = get_embedding(question, engine=EMBEDDING_MODEL_NAME)\n",
    "    \n",
    "    # Make a copy of the dataframe and add a \"distances\" column containing\n",
    "    # the cosine distances between each row's embeddings and the\n",
    "    # embeddings of the question\n",
    "    df_copy = df.copy()\n",
    "    df_copy[\"distances\"] = distances_from_embeddings(\n",
    "        question_embeddings,\n",
    "        df_copy[\"embeddings\"].values,\n",
    "        distance_metric=\"cosine\"\n",
    "    )\n",
    "    \n",
    "    # Sort the copied dataframe by the distances and return it\n",
    "    # (shorter distance = more relevant so we sort in ascending order)\n",
    "    df_copy.sort_values(\"distances\", ascending=True, inplace=True)\n",
    "    return df_copy"
   ]
  },
  {
   "cell_type": "markdown",
   "id": "ae769871",
   "metadata": {},
   "source": [
    "## Custom Query Completion\n",
    "\n",
    "TODO: In the cells below, compose a custom query using your chosen dataset and retrieve results from an OpenAI `Completion` model. You may copy and paste any useful code from the course materials."
   ]
  },
  {
   "cell_type": "code",
   "execution_count": 71,
   "id": "f90b2b75",
   "metadata": {},
   "outputs": [],
   "source": [
    "def create_prompt(question, df, max_token_count):\n",
    "    \"\"\"\n",
    "    Given a question and a dataframe containing rows of text and their\n",
    "    embeddings, return a text prompt to send to a Completion model\n",
    "    \"\"\"\n",
    "    # Create a tokenizer that is designed to align with our embeddings\n",
    "    tokenizer = tiktoken.get_encoding(\"cl100k_base\")\n",
    "    \n",
    "    # Count the number of tokens in the prompt template and question\n",
    "    prompt_template = \"\"\"\n",
    "Answer the question based on the context below, and if the question\n",
    "can't be answered based on the context, say \"I don't know\"\n",
    "Try to give on point answer without adding unnecessery informations.\n",
    "Context: \n",
    "\n",
    "{}\n",
    "\n",
    "---\n",
    "\n",
    "Question: {}\n",
    "Answer:\"\"\"\n",
    "    \n",
    "    current_token_count = len(tokenizer.encode(prompt_template)) + \\\n",
    "                            len(tokenizer.encode(question))\n",
    "    \n",
    "    context = []\n",
    "    for text in get_rows_sorted_by_relevance(question, df)[\"text\"].values:\n",
    "        \n",
    "        # Increase the counter based on the number of tokens in this row\n",
    "        text_token_count = len(tokenizer.encode(text))\n",
    "        current_token_count += text_token_count\n",
    "        \n",
    "        # Add the row of text to the list if we haven't exceeded the max\n",
    "        if current_token_count <= max_token_count:\n",
    "            context.append(text)\n",
    "        else:\n",
    "            break\n",
    "\n",
    "    return prompt_template.format(\"\\n\\n###\\n\\n\".join(context), question)\n",
    "    "
   ]
  },
  {
   "cell_type": "code",
   "execution_count": 109,
   "id": "8b6e1f75",
   "metadata": {},
   "outputs": [],
   "source": [
    "def answer_question(\n",
    "    question, df=None, max_prompt_tokens=1800, max_answer_tokens=150, custom=True\n",
    "):\n",
    "    \"\"\"\n",
    "    Given a question, a dataframe containing rows of text, and a maximum\n",
    "    number of desired tokens in the prompt and response, return the\n",
    "    answer to the question according to an OpenAI Completion model\n",
    "    \n",
    "    If the model produces an error, return an empty string\n",
    "    \"\"\"\n",
    "    if custom: \n",
    "        prompt = create_prompt(question, df, max_prompt_tokens)\n",
    "    \n",
    "        try:\n",
    "            response = openai.Completion.create(\n",
    "                model=COMPLETION_MODEL_NAME,\n",
    "                prompt=prompt,\n",
    "                max_tokens=max_answer_tokens\n",
    "            )\n",
    "            return response[\"choices\"][0][\"text\"].strip()\n",
    "        except Exception as e:\n",
    "            print(e)\n",
    "            return \"\"\n",
    "    else: \n",
    "        try: \n",
    "            response = openai.Completion.create(\n",
    "                model=COMPLETION_MODEL_NAME,\n",
    "                prompt=f\"Answer the following question: {question}\",\n",
    "                max_tokens=max_answer_tokens\n",
    "            )\n",
    "        except Exception as e:\n",
    "            print(e)\n",
    "            return \"\""
   ]
  },
  {
   "cell_type": "markdown",
   "id": "1783f146",
   "metadata": {},
   "source": [
    "## Custom Performance Demonstration\n",
    "\n",
    "TODO: In the cells below, demonstrate the performance of your custom query using at least 2 questions. For each question, show the answer from a basic `Completion` model query as well as the answer from your custom query."
   ]
  },
  {
   "cell_type": "markdown",
   "id": "4f11fdc0",
   "metadata": {},
   "source": [
    "### Question 1"
   ]
  },
  {
   "cell_type": "code",
   "execution_count": 104,
   "id": "7313c374",
   "metadata": {},
   "outputs": [
    {
     "data": {
      "text/plain": [
       "False"
      ]
     },
     "execution_count": 104,
     "metadata": {},
     "output_type": "execute_result"
    }
   ],
   "source": [
    "df.empty"
   ]
  },
  {
   "cell_type": "code",
   "execution_count": 105,
   "id": "4901c850",
   "metadata": {},
   "outputs": [],
   "source": [
    "question1 = \"What is the exceeded number of palestinian casualties ?\""
   ]
  },
  {
   "cell_type": "code",
   "execution_count": 106,
   "id": "bd7a093b",
   "metadata": {},
   "outputs": [
    {
     "name": "stdout",
     "output_type": "stream",
     "text": [
      "More than 30,000.\n"
     ]
    }
   ],
   "source": [
    "## Answer from custome query\n",
    "ans1 = answer_question(question1, df)\n",
    "print(ans1)"
   ]
  },
  {
   "cell_type": "code",
   "execution_count": 107,
   "id": "b7aadf26",
   "metadata": {},
   "outputs": [
    {
     "name": "stdout",
     "output_type": "stream",
     "text": [
      "Object of type set is not JSON serializable\n",
      "\n"
     ]
    }
   ],
   "source": [
    "## General Answer: \n",
    "ans1 = answer_question(question1, custom=False)\n",
    "print(ans1)"
   ]
  },
  {
   "cell_type": "markdown",
   "id": "6e86e37c",
   "metadata": {},
   "source": [
    "### Question 2"
   ]
  },
  {
   "cell_type": "code",
   "execution_count": 79,
   "id": "6f646989",
   "metadata": {},
   "outputs": [],
   "source": [
    "question2 = \"Who is elected as prime minister of Tuvaluan\""
   ]
  },
  {
   "cell_type": "code",
   "execution_count": 80,
   "id": "11c07a54",
   "metadata": {},
   "outputs": [
    {
     "name": "stdout",
     "output_type": "stream",
     "text": [
      "Feleti Teo.\n"
     ]
    }
   ],
   "source": [
    "ans2 = answer_question(question2, df)\n",
    "print(ans2)"
   ]
  }
 ],
 "metadata": {
  "kernelspec": {
   "display_name": "Python 3 (ipykernel)",
   "language": "python",
   "name": "python3"
  },
  "language_info": {
   "codemirror_mode": {
    "name": "ipython",
    "version": 3
   },
   "file_extension": ".py",
   "mimetype": "text/x-python",
   "name": "python",
   "nbconvert_exporter": "python",
   "pygments_lexer": "ipython3",
   "version": "3.9.18"
  }
 },
 "nbformat": 4,
 "nbformat_minor": 5
}
